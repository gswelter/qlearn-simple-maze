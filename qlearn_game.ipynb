{
 "cells": [
  {
   "cell_type": "markdown",
   "metadata": {},
   "source": [
    "# Solving a simple maze puzzle with Q-Learning"
   ]
  },
  {
   "cell_type": "code",
   "execution_count": 1,
   "metadata": {},
   "outputs": [],
   "source": [
    "import numpy as np\n",
    "import matplotlib.pyplot as plt"
   ]
  },
  {
   "cell_type": "markdown",
   "metadata": {},
   "source": [
    "## The game"
   ]
  },
  {
   "cell_type": "code",
   "execution_count": 2,
   "metadata": {},
   "outputs": [],
   "source": [
    "# loading the maze\n",
    "import maze\n",
    "M = maze.maze_7x5()"
   ]
  },
  {
   "cell_type": "code",
   "execution_count": 3,
   "metadata": {},
   "outputs": [
    {
     "data": {
      "image/png": "[encoded data removed]",
      "text/plain": [
       "<Figure size 504x360 with 1 Axes>"
      ]
     },
     "metadata": {},
     "output_type": "display_data"
    }
   ],
   "source": [
    "vmax = np.abs(M).max()\n",
    "vmin = -vmax\n",
    "fig = plt.figure(figsize=(7,5))\n",
    "plt.pcolor(M.T, cmap=plt.cm.RdYlBu, vmin=vmin, vmax=vmax)\n",
    "plt.grid()\n",
    "for i in range(M.shape[0]):\n",
    "    for j in range(M.shape[1]):\n",
    "        s = str(int(M[i,j])).zfill(2)\n",
    "        plt.text(i+0.5, j+0.5, s, horizontalalignment='center',\n",
    "                                verticalalignment='center', size=15)"
   ]
  },
  {
   "cell_type": "markdown",
   "metadata": {},
   "source": [
    "### Game rules\n",
    "\n",
    "1. Game starts at a random position on the board\n",
    "2. The goal is to reach the blue position with maximum possible accumulated points\n",
    "3. The player can move *UP*, *DOWN*, *LEFT*, or *RIGHT*; moves off the board are not allowed\n",
    "4. In each new position, the player receives a penalty (-1 or -5) or a reward (+15), as indicating in the plot above\n"
   ]
  },
  {
   "cell_type": "markdown",
   "metadata": {},
   "source": [
    "## Q-learning model"
   ]
  },
  {
   "cell_type": "code",
   "execution_count": 4,
   "metadata": {},
   "outputs": [],
   "source": [
    "from qlearn_maze_agent import QLearnAgent"
   ]
  },
  {
   "cell_type": "code",
   "execution_count": 5,
   "metadata": {},
   "outputs": [],
   "source": [
    "maze_matrix = maze.maze_7x5()"
   ]
  },
  {
   "cell_type": "code",
   "execution_count": 6,
   "metadata": {},
   "outputs": [],
   "source": [
    "r_goal = maze_matrix.max()"
   ]
  },
  {
   "cell_type": "code",
   "execution_count": 7,
   "metadata": {},
   "outputs": [],
   "source": [
    "action_array = np.array([-1, 1, 10, -10], dtype=int) # left, right, up, down"
   ]
  },
  {
   "cell_type": "code",
   "execution_count": 8,
   "metadata": {},
   "outputs": [],
   "source": [
    "agent = QLearnAgent(maze_matrix, action_array, r_goal)"
   ]
  },
  {
   "cell_type": "code",
   "execution_count": 9,
   "metadata": {},
   "outputs": [],
   "source": [
    "agent.train(nmax_episodes=500, alpha=0.2, gamma=0.7)"
   ]
  },
  {
   "cell_type": "code",
   "execution_count": 10,
   "metadata": {},
   "outputs": [
    {
     "name": "stdout",
     "output_type": "stream",
     "text": [
      "i: 000, s: 00, a: 01, r:  -1.0, i_s: 000\n",
      "i: 001, s: 01, a: 01, r:  -1.0, i_s: 005\n",
      "i: 002, s: 02, a: 01, r:  -1.0, i_s: 010\n",
      "i: 003, s: 03, a: 10, r:  -1.0, i_s: 015\n",
      "i: 004, s: 13, a: 10, r:  -1.0, i_s: 016\n",
      "i: 005, s: 23, a: 01, r:  -1.0, i_s: 017\n",
      "i: 006, s: 24, a: 01, r:  -1.0, i_s: 022\n",
      "i: 007, s: 25, a: 01, r:  -1.0, i_s: 027\n",
      "i: 008, s: 26, a: -10, r:  -1.0, i_s: 032\n",
      "i: 009, s: 16, a: -1, r:  15.0, i_s: 031\n",
      "\n",
      "  Total points: 6.0\n",
      "\n"
     ]
    },
    {
     "data": {
      "image/png": "[encoded data removed]",
      "text/plain": [
       "<Figure size 432x288 with 1 Axes>"
      ]
     },
     "metadata": {},
     "output_type": "display_data"
    }
   ],
   "source": [
    "agent.plot(0, verbose=1)"
   ]
  },
  {
   "cell_type": "markdown",
   "metadata": {},
   "source": [
    "## The Q-table"
   ]
  },
  {
   "cell_type": "code",
   "execution_count": 11,
   "metadata": {},
   "outputs": [
    {
     "data": {
      "text/plain": [
       "<matplotlib.colorbar.Colorbar at 0x7f604c6749b0>"
      ]
     },
     "execution_count": 11,
     "metadata": {},
     "output_type": "execute_result"
    },
    {
     "data": {
      "image/png": "[encoded data removed]",
      "text/plain": [
       "<Figure size 432x288 with 2 Axes>"
      ]
     },
     "metadata": {},
     "output_type": "display_data"
    }
   ],
   "source": [
    "# Masked values are forbiden states\n",
    "plt.clf()\n",
    "plt.pcolor(agent.Q.T)\n",
    "plt.yticks([0.5, 1.5, 2.5, 3.5], ['Left', 'Right', 'Up', 'Down'])\n",
    "plt.xlabel('State index')\n",
    "plt.colorbar()"
   ]
  },
  {
   "cell_type": "markdown",
   "metadata": {},
   "source": [
    "## Training error (sort of)"
   ]
  },
  {
   "cell_type": "code",
   "execution_count": null,
   "metadata": {},
   "outputs": [
    {
     "data": {
      "text/plain": [
       "Text(0,0.5,'Changing ration w.r.t. the first episode')"
      ]
     },
     "execution_count": 16,
     "metadata": {},
     "output_type": "execute_result"
    }
   ],
   "source": [
    "plt.loglog(np.arange(agent.n_episodes)+1, agent.err_q, '-o')\n",
    "plt.xlabel('# of training episodes')\n",
    "plt.ylabel('Changing ration w.r.t. the first episode')"
   ]
  },
  {
   "cell_type": "markdown",
   "metadata": {},
   "source": [
    "## Animating results with ImageMagik"
   ]
  },
  {
   "cell_type": "code",
   "execution_count": 12,
   "metadata": {},
   "outputs": [
    {
     "name": "stdout",
     "output_type": "stream",
     "text": [
      "fig_episode1_step001.png\n",
      "fig_episode1_step002.png\n",
      "fig_episode1_step003.png\n",
      "fig_episode1_step004.png\n",
      "fig_episode1_step005.png\n",
      "fig_episode1_step006.png\n",
      "fig_episode1_step007.png\n",
      "fig_episode1_step008.png\n",
      "fig_episode1_step009.png\n",
      "fig_episode1_step010.png\n",
      "fig_episode2_step001.png\n",
      "fig_episode2_step002.png\n",
      "fig_episode2_step003.png\n",
      "fig_episode2_step004.png\n",
      "fig_episode2_step005.png\n",
      "fig_episode2_step006.png\n",
      "fig_episode2_step007.png\n",
      "fig_episode2_step008.png\n",
      "fig_episode3_step001.png\n",
      "fig_episode3_step002.png\n",
      "fig_episode3_step003.png\n",
      "fig_episode3_step004.png\n",
      "fig_episode3_step005.png\n",
      "fig_episode3_step006.png\n",
      "fig_episode4_step001.png\n",
      "fig_episode4_step002.png\n",
      "fig_episode4_step003.png\n",
      "fig_episode4_step004.png\n",
      "fig_episode4_step005.png\n",
      "fig_episode4_step006.png\n"
     ]
    }
   ],
   "source": [
    "agent.multi_plot(slist=[0, 42, 46, 22], basename='fig')"
   ]
  },
  {
   "cell_type": "markdown",
   "metadata": {},
   "source": [
    "### Making an animated gif with `convert`\n",
    "```\n",
    "convert -delay 16 -loop 0 fig_episode*_step*.png play_game.gif\n",
    "```"
   ]
  },
  {
   "cell_type": "markdown",
   "metadata": {},
   "source": [
    "#![Ta-dam](play_game.gif)"
   ]
  },
  {
   "cell_type": "code",
   "execution_count": null,
   "metadata": {},
   "outputs": [],
   "source": []
  }
 ],
 "metadata": {
  "kernelspec": {
   "display_name": "Python 3",
   "language": "python",
   "name": "python3"
  },
  "language_info": {
   "codemirror_mode": {
    "name": "ipython",
    "version": 3
   },
   "file_extension": ".py",
   "mimetype": "text/x-python",
   "name": "python",
   "nbconvert_exporter": "python",
   "pygments_lexer": "ipython3",
   "version": "3.5.5"
  }
 },
 "nbformat": 4,
 "nbformat_minor": 2
}
