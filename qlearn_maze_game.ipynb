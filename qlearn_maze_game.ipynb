{
 "cells": [
  {
   "cell_type": "markdown",
   "metadata": {},
   "source": [
    "# Solving a simple maze puzzle with Q-Learning"
   ]
  },
  {
   "cell_type": "code",
   "execution_count": 1,
   "metadata": {},
   "outputs": [],
   "source": [
    "import numpy as np\n",
    "import matplotlib.pyplot as plt\n",
    "import maze\n",
    "import plot_utils"
   ]
  },
  {
   "cell_type": "markdown",
   "metadata": {},
   "source": [
    "## The game"
   ]
  },
  {
   "cell_type": "code",
   "execution_count": 18,
   "metadata": {},
   "outputs": [],
   "source": [
    "# loading the maze\n",
    "M = maze.maze_7x5()"
   ]
  },
  {
   "cell_type": "code",
   "execution_count": 177,
   "metadata": {},
   "outputs": [
    {
     "data": {
      "image/png": "[encoded data removed]",
      "text/plain": [
       "<Figure size 504x360 with 1 Axes>"
      ]
     },
     "metadata": {},
     "output_type": "display_data"
    }
   ],
   "source": [
    "v = np.abs(M).max()\n",
    "fig = plt.figure(figsize=(7,5))\n",
    "plt.pcolor(M.T, cmap=plt.cm.RdYlBu, vmin=-v, vmax=v)\n",
    "plt.grid()\n",
    "for i in range(M.shape[0]):\n",
    "    for j in range(M.shape[1]):\n",
    "        s = str(int(M[i,j])).zfill(2)\n",
    "        plt.text(i+0.5, j+0.5, s, horizontalalignment='center',\n",
    "                                verticalalignment='center', size=15)"
   ]
  },
  {
   "cell_type": "markdown",
   "metadata": {},
   "source": [
    "### Game rules\n",
    "\n",
    "1. Game starts at a random position on the board\n",
    "2. The goal is to reach the blue position with maximum possible accumulated points\n",
    "3. The player can move *UP*, *DOWN*, *LEFT*, or *RIGHT*; moves off the board are not allowed\n",
    "4. In each new position, the player receives a penalty (-1 or -5) or a reward (+15), as indicating in the plot above\n"
   ]
  },
  {
   "cell_type": "markdown",
   "metadata": {},
   "source": [
    "## Q-Learning"
   ]
  },
  {
   "cell_type": "markdown",
   "metadata": {},
   "source": [
    "$a \\in A$, $s \\in S$\n",
    "\n",
    "\n",
    "$A=\\left\\{ a_1, a_2, \\dots  \\right\\}$\n",
    "\n",
    "\n",
    "tuple $\\langle s,a,r,s' \\rangle$\n",
    "- current state $s$\n",
    "- action $a$\n",
    "- reward $r$\n",
    "- future state $s'$\n"
   ]
  },
  {
   "cell_type": "markdown",
   "metadata": {},
   "source": [
    "  \n",
    "Belmann equation:\n",
    "$$Q^{(i+1)}[s,a] = (1-\\alpha)\\,Q^{(i)}[s,a] + \\alpha \\left( r + \\gamma \\,Q^{(i)}\\left[s,\\text{argmax}_{a} \\,Q^{(i)}[s,a]\\right] \\right)$$\n",
    "\n",
    "- learning rate $\\alpha$\n",
    "- iteration index $i$\n",
    "- discount rate $\\gamma$\n"
   ]
  },
  {
   "cell_type": "markdown",
   "metadata": {},
   "source": [
    "### Optimal policy\n",
    "\n",
    "$$\\pi_*(s) = \\text{argmax}_{a} \\,Q^{(i)}[s,a] $$"
   ]
  },
  {
   "cell_type": "markdown",
   "metadata": {},
   "source": [
    "# ------------------------"
   ]
  },
  {
   "cell_type": "code",
   "execution_count": 321,
   "metadata": {},
   "outputs": [],
   "source": [
    "class QLearnAgent:\n",
    "    \n",
    "    def __init__(self, maze_matrix, action_array, r_goal):\n",
    "       \n",
    "        self.maze = maze_matrix\n",
    "        S, R, m = self.__transform_maze_matrix(maze_matrix)\n",
    "        self.S = S\n",
    "        self.R = R\n",
    "        self.m = m\n",
    "        self.A = self.__validate_actions(self.S, action_array)\n",
    "       \n",
    "        self.r_goal = r_goal\n",
    "        \n",
    "            \n",
    "    def __transform_maze_matrix(self, maze_matrix):\n",
    "        \"\"\"\n",
    "        Utility to transform matrix into S and R.\n",
    "        \"\"\"\n",
    "        nx, ny = maze_matrix.shape\n",
    "        m = 10**int(np.ceil(np.log10(ny)))\n",
    "\n",
    "        S = []\n",
    "        R = []\n",
    "\n",
    "        for i in range(nx):\n",
    "            for j in range(ny):\n",
    "                state = maze_matrix[i,j]\n",
    "                R.append(state)\n",
    "                S.append(m*j + i)\n",
    "\n",
    "        S = np.array(S).astype(int)\n",
    "        R = np.array(R).astype(float)\n",
    "        \n",
    "        return S, R, m\n",
    "\n",
    "    def __validate_actions(self, S, A):\n",
    "\n",
    "        S = np.asarray(S)\n",
    "        A = np.asarray(A)\n",
    "\n",
    "        na = len(A)\n",
    "        ns = len(S)\n",
    "\n",
    "        A1 = np.zeros([ns, na])\n",
    "\n",
    "        for i,s in enumerate(S):\n",
    "            for j,a in enumerate(A):\n",
    "                s1 = self.action(s, a)\n",
    "                if s1 in S:\n",
    "                    A1[i,j] = A[j]\n",
    "                else:\n",
    "                    A1[i,j] = np.nan\n",
    "\n",
    "        A1 = np.ma.masked_invalid(A1).astype(int)\n",
    "        return A1    \n",
    "\n",
    "    def __xyflat_to_xypairs(self, xyflat, m=10):\n",
    "        xyflat = np.array(xyflat)\n",
    "        y = xyflat // m\n",
    "        x = np.mod(xyflat, m)\n",
    "        return x, y    \n",
    "    \n",
    "    def action(self, s, a):\n",
    "        return s + a    \n",
    "    \n",
    "    def train(self, nmax_episodes=100, alpha=0.3, gamma=0.6, Q_init=None,\n",
    "              l1=100, l2=40, pmax=0.3, pmin=0.02, random_state=666):\n",
    "        \n",
    "        self.nmax_episodes = nmax_episodes\n",
    "        self.alpha = alpha\n",
    "        self.gamma = gamma\n",
    "        \n",
    "        assert pmax <= 1., '0 <= pmin < pmax <= 1'\n",
    "        assert pmin < pmax, '0 <= pmin < pmax <= 1'\n",
    "        assert pmin >= 0., '0 <= pmin < pmax <= 1'\n",
    "        \n",
    "        if Q_init is None:\n",
    "            np.random.seed(random_state)\n",
    "            self.Q = np.random.rand(self.A.shape[0], self.A.shape[1])\n",
    "        else:\n",
    "            assert np.shape(Q_init) == (self.A.shape[0], self.A.shape[1]), 'Q shape must be \"(len(S), len(A))\"'\n",
    "            self.Q = np.array(Q_init)\n",
    "\n",
    "        self.Q = np.ma.masked_where(self.A.mask, self.Q)\n",
    "        self.Q_init = self.Q.copy()       \n",
    "        self.err_q = np.zeros(self.nmax_episodes)\n",
    "       \n",
    "        self.n_iter = 0\n",
    "        self.n_steps = 0\n",
    "        self.n_episodes = 0\n",
    "        self.s = np.random.permutation(self.S).take(0)\n",
    "        \n",
    "        while self.n_episodes < self.nmax_episodes:\n",
    "            \n",
    "            # index of the current state\n",
    "            i_s = np.where(self.S==self.s)[0].take(0)\n",
    "    \n",
    "            # random exploration/exploitation\n",
    "            #pmax, pmin, l1, l2\n",
    "            eps1 = np.clip( pmax * np.exp(-self.n_episodes / l1), pmin, 1. )\n",
    "            eps2 = np.clip( pmax * (1. - np.exp(-(self.n_steps / l2))), pmin, 1. )\n",
    "            \n",
    "            if np.random.rand() < max(eps1, eps2):\n",
    "                a = np.random.permutation(self.A[i_s][self.A[i_s].mask == False])[0].take(0)\n",
    "                i_a = np.where(self.A[i_s] == a)[0].take(0)              \n",
    "                #print('random', eps1, eps2, self.n_steps)\n",
    "\n",
    "            else:\n",
    "                i_a = np.argmax(self.Q[i_s,:]).take(0)\n",
    "                a = self.A[i_s, i_a].take(0)\n",
    "\n",
    "            # imediate reward for taking action a at state s\n",
    "            r = self.R[i_s]\n",
    "            \n",
    "            self.n_steps += 1\n",
    "            self.n_iter += 1\n",
    "            \n",
    "            if r == self.r_goal:\n",
    "                \n",
    "                self.err_q[self.n_episodes] = np.sum((self.Q_init - self.Q)**2)\n",
    "                # estimate the thorugh Q_star instead\n",
    "                \n",
    "                self.n_episodes += 1\n",
    "                self.n_steps = 0\n",
    "                self.s = np.random.permutation(self.S).take(0)\n",
    "                \n",
    "                \n",
    "            else:\n",
    "                # the new state after taking action a at state s\n",
    "                s1 = self.action(self.s, a)\n",
    "\n",
    "                # future reward\n",
    "                i_s1 = np.where(self.S==s1)[0].take(0)\n",
    "                i_a1 = np.asarray(np.argmax(self.Q[i_s1,:])).take(0)\n",
    "\n",
    "                # updating the Q table\n",
    "                self.Q[i_s,i_a] = (1.-self.alpha)*self.Q[i_s,i_a] + self.alpha*(r + self.gamma*self.Q[i_s1,i_a1])\n",
    "\n",
    "                # saving the new state\n",
    "                self.s = s1\n",
    "                \n",
    "            \n",
    "        self.Q_star = np.argmax(self.Q, axis=1)\n",
    "        self.A_star = np.array([self.A[i,iq] for (i,iq) in enumerate(self.Q_star)]).astype(int)        \n",
    "        self.err_q = self.err_q[0] / agent.err_q\n",
    "        \n",
    "    def play(self, s, max_episodes=100, verbose=True):\n",
    "        \n",
    "        i_s = np.where(self.S == s)[0].take(0) # 0\n",
    "        \n",
    "        #a = self.A[self.Q_star[i_s]]\n",
    "        a = self.A_star[i_s]\n",
    "        r = self.R[i_s]\n",
    "        \n",
    "        slist = []\n",
    "        alist = []\n",
    "        rlist = []\n",
    "        \n",
    "        slist.append(s)\n",
    "        alist.append(a)\n",
    "        rlist.append(r)\n",
    "\n",
    "        i = 0\n",
    "        if verbose:\n",
    "            print('i: {:03d}, s: {:02d}, a: {:02d}, r: {:5.1f}, i_s: {:03d}'.format(i, s, a, r, i_s))\n",
    "        \n",
    "        while r != self.r_goal and i < max_episodes:\n",
    "            \n",
    "            s = self.action(s, a)\n",
    "            \n",
    "            i_s = np.where(self.S == s)[0].take(0)\n",
    "            \n",
    "            #a = self.A[self.Q_star[i_s]]\n",
    "            a = self.A_star[i_s]\n",
    "            r = self.R[i_s]\n",
    "                   \n",
    "            slist.append(s)\n",
    "            alist.append(a)\n",
    "            rlist.append(r)\n",
    "            \n",
    "            i += 1\n",
    "            if verbose:           \n",
    "                print('i: {:03d}, s: {:02d}, a: {:02d}, r: {:5.1f}, i_s: {:03d}'.format(i, s, a, r, i_s))\n",
    "            \n",
    "        s_arr = np.array(slist)\n",
    "        a_arr = np.array(alist)\n",
    "        r_arr = np.array(rlist)\n",
    "        \n",
    "        if verbose:\n",
    "            print('\\n  Total points: {}\\n'.format(r_arr.sum()))\n",
    "        \n",
    "        return s_arr, a_arr, r_arr\n",
    "    \n",
    "    def plot(self, s, max_episodes=100, verbose=False):\n",
    "        \n",
    "        s_arr, a_arr, r_arr = self.play(s, max_episodes, verbose=verbose)\n",
    "        x, y = self.__xyflat_to_xypairs(xyflat=s_arr, m=self.m)\n",
    "        \n",
    "        vmax = np.abs(self.R).max()\n",
    "        vmin = -vmax\n",
    "\n",
    "        plt.clf()\n",
    "        plt.pcolor(self.maze.T, cmap=plt.cm.RdYlBu, vmin=vmin, vmax=vmax)\n",
    "        plt.grid()\n",
    "        plt.plot(x[:]+0.5, y[:]+0.5, 'k-o')\n",
    "        plt.plot(x[0]+0.5, y[0]+0.5, 'r*', ms=16)\n",
    "        plt.plot(x[-1]+0.5, y[-1]+0.5, 'ro', ms=12)\n",
    "        plt.show()\n",
    "    \n",
    "    def multi_plot(self, slist, basename='_fig'):\n",
    "\n",
    "        vmax = np.abs(self.R).max()\n",
    "        vmin = -vmax\n",
    "\n",
    "        ls = int(1 + np.ceil(np.log10(self.maze.shape[0] * self.maze.shape[1])))\n",
    "        le = int(np.ceil(np.log10(len(slist))))\n",
    "\n",
    "        for k, s in enumerate(slist):\n",
    "\n",
    "            s_arr, a_arr, r_arr = self.play(s, verbose=False)\n",
    "            x, y = self.__xyflat_to_xypairs(xyflat=s_arr, m=self.m)\n",
    "\n",
    "            ns = len(s_arr)\n",
    "\n",
    "            episode = str(k+1).zfill(le)\n",
    "\n",
    "            fig = plt.figure()\n",
    "\n",
    "            for j in range(1, ns+1):\n",
    "\n",
    "                step = str(j).zfill(ls)\n",
    "\n",
    "                fname = '{}_episode{}_step{}.png'.format(basename, episode, step)\n",
    "                print(fname)\n",
    "\n",
    "                fig.clf()            \n",
    "                ax = fig.add_subplot(111)\n",
    "                ax.pcolor(self.maze.T, cmap=plt.cm.RdYlBu, vmin=vmin, vmax=vmax)\n",
    "                ax.plot(x[:j]+0.5, y[:j]+0.5, 'k-o')        \n",
    "                ax.plot(x[0]+0.5, y[0]+0.5, 'k*', ms=15)\n",
    "\n",
    "                if j == ns:  \n",
    "                    ax.plot(x[-1]+0.5, y[-1]+0.5, 'kH', ms=15)\n",
    "\n",
    "                ax.grid()\n",
    "\n",
    "                fig.savefig(fname, dpi=100, bbox_inches='tight')\n",
    "\n",
    "            plt.close('all')    "
   ]
  },
  {
   "cell_type": "code",
   "execution_count": 21,
   "metadata": {},
   "outputs": [],
   "source": [
    "maze_matrix = maze.maze_7x5()"
   ]
  },
  {
   "cell_type": "code",
   "execution_count": 297,
   "metadata": {},
   "outputs": [],
   "source": [
    "#plt.savefig?"
   ]
  },
  {
   "cell_type": "code",
   "execution_count": 186,
   "metadata": {},
   "outputs": [],
   "source": [
    "action_array = np.array([-1, 1, 10, -10], dtype=int) # left, right, up, down\n",
    "r_goal = maze_matrix.max()"
   ]
  },
  {
   "cell_type": "code",
   "execution_count": 298,
   "metadata": {},
   "outputs": [],
   "source": [
    "agent = QLearnAgent(maze_matrix, action_array, r_goal)"
   ]
  },
  {
   "cell_type": "code",
   "execution_count": 299,
   "metadata": {},
   "outputs": [],
   "source": [
    "agent.train(nmax_episodes=500, alpha=0.2, gamma=0.7)"
   ]
  },
  {
   "cell_type": "code",
   "execution_count": 285,
   "metadata": {},
   "outputs": [],
   "source": [
    "#agent.plot(11, verbose=1)\n",
    "#plt.plot?"
   ]
  },
  {
   "cell_type": "code",
   "execution_count": 300,
   "metadata": {},
   "outputs": [
    {
     "name": "stdout",
     "output_type": "stream",
     "text": [
      "_fig_episode1_step001.png\n",
      "_fig_episode1_step002.png\n",
      "_fig_episode1_step003.png\n",
      "_fig_episode1_step004.png\n",
      "_fig_episode1_step005.png\n",
      "_fig_episode1_step006.png\n",
      "_fig_episode1_step007.png\n",
      "_fig_episode1_step008.png\n"
     ]
    }
   ],
   "source": [
    "agent.multi_plot(slist=[42], basename='_fig')"
   ]
  },
  {
   "cell_type": "code",
   "execution_count": 232,
   "metadata": {},
   "outputs": [
    {
     "data": {
      "text/plain": [
       "0"
      ]
     },
     "execution_count": 232,
     "metadata": {},
     "output_type": "execute_result"
    }
   ],
   "source": [
    "agent.n"
   ]
  },
  {
   "cell_type": "code",
   "execution_count": 64,
   "metadata": {},
   "outputs": [],
   "source": [
    "agent.train(nmax_episodes=500, alpha=0.2, gamma=0.7, Q_init=Q_init)"
   ]
  },
  {
   "cell_type": "code",
   "execution_count": 65,
   "metadata": {},
   "outputs": [
    {
     "data": {
      "text/plain": [
       "[<matplotlib.lines.Line2D at 0x7fc728714a90>]"
      ]
     },
     "execution_count": 65,
     "metadata": {},
     "output_type": "execute_result"
    },
    {
     "data": {
      "image/png": "[encoded data removed]",
      "text/plain": [
       "<Figure size 432x288 with 1 Axes>"
      ]
     },
     "metadata": {},
     "output_type": "display_data"
    }
   ],
   "source": [
    "#plt.loglog(np.arange(agent.n_episodes)+1, agent.err_q[0]/agent.err_q, '-o')\n",
    "plt.loglog(np.arange(agent.n_episodes)+1, agent.err_q, '-o')"
   ]
  },
  {
   "cell_type": "code",
   "execution_count": 247,
   "metadata": {},
   "outputs": [
    {
     "data": {
      "text/plain": [
       "100"
      ]
     },
     "execution_count": 247,
     "metadata": {},
     "output_type": "execute_result"
    }
   ],
   "source": [
    "10 ** int(np.ceil(np.log10(agent.maze.shape[0] * agent.maze.shape[1])))"
   ]
  },
  {
   "cell_type": "markdown",
   "metadata": {},
   "source": [
    "## Animation"
   ]
  },
  {
   "cell_type": "code",
   "execution_count": 271,
   "metadata": {},
   "outputs": [],
   "source": [
    "def multi_qplot(slist, agent, basename='_fig'):\n",
    "       \n",
    "    vmax = np.abs(agent.R).max()\n",
    "    vmin = -vmax\n",
    "    \n",
    "    ls = int(1 + np.ceil(np.log10(agent.maze.shape[0] * agent.maze.shape[1])))\n",
    "    le = int(np.ceil(np.log10(len(slist))))\n",
    "        \n",
    "    for k, s in enumerate(slist):\n",
    "        \n",
    "        s_arr, a_arr, r_arr = agent.play(s, verbose=False)\n",
    "        x, y = agent.xyflat_to_xypairs(xyflat=s_arr, m=agent.m)\n",
    "        \n",
    "        ns = len(s_arr)\n",
    "        \n",
    "        episode = str(k+1).zfill(le)\n",
    "        \n",
    "        fig = plt.figure()\n",
    "        \n",
    "        for j in range(1, ns+1):\n",
    "            \n",
    "            step = str(j).zfill(ls)\n",
    "            \n",
    "            fname = '{}_episode{}_step{}.png'.format(basename, episode, step)\n",
    "            print(fname)\n",
    "                           \n",
    "            fig.clf()            \n",
    "            ax = fig.add_subplot(111)\n",
    "            ax.pcolor(agent.maze.T, cmap=plt.cm.RdYlBu, vmin=vmin, vmax=vmax)\n",
    "            ax.plot(x[:j]+0.5, y[:j]+0.5, 'k-o')        \n",
    "            ax.plot(x[0]+0.5, y[0]+0.5, 'k*', ms=15)\n",
    "            \n",
    "            if j == ns:  \n",
    "                ax.plot(x[-1]+0.5, y[-1]+0.5, 'kH', ms=15)\n",
    "        \n",
    "            ax.grid()\n",
    "            \n",
    "            fig.tight_layout()\n",
    "            fig.savefig(fname, dpi=100)\n",
    "            \n",
    "        plt.close('all')"
   ]
  },
  {
   "cell_type": "markdown",
   "metadata": {},
   "source": [
    "# ------------------"
   ]
  },
  {
   "cell_type": "code",
   "execution_count": 269,
   "metadata": {},
   "outputs": [
    {
     "name": "stderr",
     "output_type": "stream",
     "text": [
      "/home/guilherme/bin/anaconda3/envs/py35/lib/python3.5/site-packages/ipykernel_launcher.py:149: DeprecationWarning: elementwise == comparison failed; this will raise an error in the future.\n"
     ]
    },
    {
     "ename": "IndexError",
     "evalue": "cannot do a non-empty take from an empty axes.",
     "output_type": "error",
     "traceback": [
      "\u001b[0;31m---------------------------------------------------------------------------\u001b[0m",
      "\u001b[0;31mIndexError\u001b[0m                                Traceback (most recent call last)",
      "\u001b[0;32m<ipython-input-269-b7a737565d8a>\u001b[0m in \u001b[0;36m<module>\u001b[0;34m()\u001b[0m\n\u001b[0;32m----> 1\u001b[0;31m \u001b[0mmulti_qplot\u001b[0m\u001b[0;34m(\u001b[0m\u001b[0mslist\u001b[0m\u001b[0;34m=\u001b[0m\u001b[0;34m[\u001b[0m\u001b[0;36m0\u001b[0m\u001b[0;34m,\u001b[0m \u001b[0;36m42\u001b[0m\u001b[0;34m]\u001b[0m\u001b[0;34m,\u001b[0m \u001b[0magent\u001b[0m\u001b[0;34m=\u001b[0m\u001b[0magent\u001b[0m\u001b[0;34m,\u001b[0m \u001b[0mbasename\u001b[0m\u001b[0;34m=\u001b[0m\u001b[0;34m'_fig'\u001b[0m\u001b[0;34m)\u001b[0m\u001b[0;34m\u001b[0m\u001b[0m\n\u001b[0m",
      "\u001b[0;32m<ipython-input-267-eae36124933c>\u001b[0m in \u001b[0;36mmulti_qplot\u001b[0;34m(slist, agent, basename)\u001b[0m\n\u001b[1;32m     11\u001b[0m     \u001b[0;32mfor\u001b[0m \u001b[0mk\u001b[0m\u001b[0;34m,\u001b[0m \u001b[0ms\u001b[0m \u001b[0;32min\u001b[0m \u001b[0menumerate\u001b[0m\u001b[0;34m(\u001b[0m\u001b[0mslist\u001b[0m\u001b[0;34m)\u001b[0m\u001b[0;34m:\u001b[0m\u001b[0;34m\u001b[0m\u001b[0m\n\u001b[1;32m     12\u001b[0m \u001b[0;34m\u001b[0m\u001b[0m\n\u001b[0;32m---> 13\u001b[0;31m         \u001b[0ms_arr\u001b[0m\u001b[0;34m,\u001b[0m \u001b[0ma_arr\u001b[0m\u001b[0;34m,\u001b[0m \u001b[0mr_arr\u001b[0m \u001b[0;34m=\u001b[0m \u001b[0magent\u001b[0m\u001b[0;34m.\u001b[0m\u001b[0mplay\u001b[0m\u001b[0;34m(\u001b[0m\u001b[0ms\u001b[0m\u001b[0;34m,\u001b[0m \u001b[0mverbose\u001b[0m\u001b[0;34m=\u001b[0m\u001b[0;32mFalse\u001b[0m\u001b[0;34m)\u001b[0m\u001b[0;34m\u001b[0m\u001b[0m\n\u001b[0m\u001b[1;32m     14\u001b[0m         \u001b[0mx\u001b[0m\u001b[0;34m,\u001b[0m \u001b[0my\u001b[0m \u001b[0;34m=\u001b[0m \u001b[0magent\u001b[0m\u001b[0;34m.\u001b[0m\u001b[0mxyflat_to_xypairs\u001b[0m\u001b[0;34m(\u001b[0m\u001b[0mxyflat\u001b[0m\u001b[0;34m=\u001b[0m\u001b[0ms_arr\u001b[0m\u001b[0;34m,\u001b[0m \u001b[0mm\u001b[0m\u001b[0;34m=\u001b[0m\u001b[0magent\u001b[0m\u001b[0;34m.\u001b[0m\u001b[0mm\u001b[0m\u001b[0;34m)\u001b[0m\u001b[0;34m\u001b[0m\u001b[0m\n\u001b[1;32m     15\u001b[0m \u001b[0;34m\u001b[0m\u001b[0m\n",
      "\u001b[0;32m<ipython-input-203-867594e2dcf6>\u001b[0m in \u001b[0;36mplay\u001b[0;34m(self, s, max_episodes, verbose)\u001b[0m\n\u001b[1;32m    147\u001b[0m     \u001b[0;32mdef\u001b[0m \u001b[0mplay\u001b[0m\u001b[0;34m(\u001b[0m\u001b[0mself\u001b[0m\u001b[0;34m,\u001b[0m \u001b[0ms\u001b[0m\u001b[0;34m,\u001b[0m \u001b[0mmax_episodes\u001b[0m\u001b[0;34m=\u001b[0m\u001b[0;36m100\u001b[0m\u001b[0;34m,\u001b[0m \u001b[0mverbose\u001b[0m\u001b[0;34m=\u001b[0m\u001b[0;32mTrue\u001b[0m\u001b[0;34m)\u001b[0m\u001b[0;34m:\u001b[0m\u001b[0;34m\u001b[0m\u001b[0m\n\u001b[1;32m    148\u001b[0m \u001b[0;34m\u001b[0m\u001b[0m\n\u001b[0;32m--> 149\u001b[0;31m         \u001b[0mi_s\u001b[0m \u001b[0;34m=\u001b[0m \u001b[0mnp\u001b[0m\u001b[0;34m.\u001b[0m\u001b[0mwhere\u001b[0m\u001b[0;34m(\u001b[0m\u001b[0mself\u001b[0m\u001b[0;34m.\u001b[0m\u001b[0mS\u001b[0m \u001b[0;34m==\u001b[0m \u001b[0ms\u001b[0m\u001b[0;34m)\u001b[0m\u001b[0;34m[\u001b[0m\u001b[0;36m0\u001b[0m\u001b[0;34m]\u001b[0m\u001b[0;34m.\u001b[0m\u001b[0mtake\u001b[0m\u001b[0;34m(\u001b[0m\u001b[0;36m0\u001b[0m\u001b[0;34m)\u001b[0m \u001b[0;31m# 0\u001b[0m\u001b[0;34m\u001b[0m\u001b[0m\n\u001b[0m\u001b[1;32m    150\u001b[0m \u001b[0;34m\u001b[0m\u001b[0m\n\u001b[1;32m    151\u001b[0m         \u001b[0;31m#a = self.A[self.Q_star[i_s]]\u001b[0m\u001b[0;34m\u001b[0m\u001b[0;34m\u001b[0m\u001b[0m\n",
      "\u001b[0;31mIndexError\u001b[0m: cannot do a non-empty take from an empty axes."
     ]
    }
   ],
   "source": [
    "multi_qplot(slist=[0, 42], agent=agent, basename='_fig')"
   ]
  },
  {
   "cell_type": "code",
   "execution_count": 60,
   "metadata": {},
   "outputs": [
    {
     "name": "stdout",
     "output_type": "stream",
     "text": [
      "i: 000, s: 40, a: -10, r:  -1.0, i_s: 004\n",
      "i: 001, s: 30, a: -10, r:  -1.0, i_s: 003\n",
      "i: 002, s: 20, a: 01, r:  -1.0, i_s: 002\n",
      "i: 003, s: 21, a: -10, r:  -1.0, i_s: 007\n",
      "i: 004, s: 11, a: -10, r:  -1.0, i_s: 006\n",
      "i: 005, s: 01, a: 01, r:  -1.0, i_s: 005\n",
      "i: 006, s: 02, a: 01, r:  -1.0, i_s: 010\n",
      "i: 007, s: 03, a: 10, r:  -1.0, i_s: 015\n",
      "i: 008, s: 13, a: 10, r:  -1.0, i_s: 016\n",
      "i: 009, s: 23, a: 01, r:  -1.0, i_s: 017\n",
      "i: 010, s: 24, a: 01, r:  -1.0, i_s: 022\n",
      "i: 011, s: 25, a: 01, r:  -1.0, i_s: 027\n",
      "i: 012, s: 26, a: -10, r:  -1.0, i_s: 032\n",
      "i: 013, s: 16, a: -1, r:  15.0, i_s: 031\n"
     ]
    },
    {
     "data": {
      "text/plain": [
       "(array([40, 30, 20, 21, 11,  1,  2,  3, 13, 23, 24, 25, 26, 16]),\n",
       " array([-10, -10,   1, -10, -10,   1,   1,  10,  10,   1,   1,   1, -10,\n",
       "         -1]),\n",
       " array([-1., -1., -1., -1., -1., -1., -1., -1., -1., -1., -1., -1., -1.,\n",
       "        15.]))"
      ]
     },
     "execution_count": 60,
     "metadata": {},
     "output_type": "execute_result"
    }
   ],
   "source": [
    "agent.play(40)"
   ]
  },
  {
   "cell_type": "markdown",
   "metadata": {},
   "source": [
    "# ------------------------"
   ]
  },
  {
   "cell_type": "code",
   "execution_count": null,
   "metadata": {},
   "outputs": [],
   "source": []
  },
  {
   "cell_type": "markdown",
   "metadata": {},
   "source": [
    "## Implementation"
   ]
  },
  {
   "cell_type": "markdown",
   "metadata": {},
   "source": [
    "Flattening arrays"
   ]
  },
  {
   "cell_type": "code",
   "execution_count": 17,
   "metadata": {},
   "outputs": [],
   "source": [
    "nx, ny = M.shape\n",
    "m = 10**int(np.ceil(np.log10(ny)))\n",
    "\n",
    "S = []\n",
    "R = []\n",
    "\n",
    "for i in range(nx):\n",
    "    for j in range(ny):\n",
    "        state = M[i,j]\n",
    "        R.append(state)\n",
    "        S.append(m*j + i)\n",
    "\n",
    "S = np.array(S).astype(int)\n",
    "R = np.array(R).astype(float)"
   ]
  },
  {
   "cell_type": "code",
   "execution_count": 6,
   "metadata": {},
   "outputs": [],
   "source": [
    "# actions\n",
    "A = np.array([-1,1,10,-10], dtype=int) # left, right, up, down"
   ]
  },
  {
   "cell_type": "code",
   "execution_count": 7,
   "metadata": {},
   "outputs": [],
   "source": [
    "def action(s, a):\n",
    "    return s + a"
   ]
  },
  {
   "cell_type": "markdown",
   "metadata": {},
   "source": [
    "Invalidating actions that lead off the board"
   ]
  },
  {
   "cell_type": "code",
   "execution_count": 8,
   "metadata": {},
   "outputs": [],
   "source": [
    "def valid_actions(S, A):\n",
    "    \n",
    "    S = np.asarray(S)\n",
    "    A = np.asarray(A)\n",
    "    \n",
    "    na = len(A)\n",
    "    ns = len(S)\n",
    "    \n",
    "    A1 = np.zeros([ns, na])\n",
    "    \n",
    "    for i,s in enumerate(S):\n",
    "        for j,a in enumerate(A):\n",
    "            s1 = action(s, a)\n",
    "            if s1 in S:\n",
    "                A1[i,j] = A[j]\n",
    "            else:\n",
    "                A1[i,j] = np.nan\n",
    "\n",
    "    A1 = np.ma.masked_invalid(A1).astype(int)\n",
    "    return A1"
   ]
  },
  {
   "cell_type": "markdown",
   "metadata": {},
   "source": [
    "### Random initialization for Q"
   ]
  },
  {
   "cell_type": "code",
   "execution_count": 54,
   "metadata": {},
   "outputs": [],
   "source": [
    "ns = len(S)\n",
    "na = len(A)\n",
    "Q = np.random.rand(ns, na)\n",
    "\n",
    "# masked invalid\n",
    "A1 = valid_actions(S, A)\n",
    "Q1 = np.ma.masked_where(A1.mask, Q)"
   ]
  },
  {
   "cell_type": "code",
   "execution_count": 47,
   "metadata": {},
   "outputs": [
    {
     "data": {
      "text/plain": [
       "<matplotlib.colorbar.Colorbar at 0x7fa5b3887208>"
      ]
     },
     "execution_count": 47,
     "metadata": {},
     "output_type": "execute_result"
    },
    {
     "data": {
      "image/png": "[encoded data removed]",
      "text/plain": [
       "<Figure size 432x288 with 2 Axes>"
      ]
     },
     "metadata": {},
     "output_type": "display_data"
    }
   ],
   "source": [
    "plt.pcolor(Q1.T, vmin=0.0, vmax=1.0)\n",
    "plt.yticks([0.5, 1.5, 2.5, 3.5], ['Left', 'Right', 'Up', 'Down'])\n",
    "plt.xlabel('State index')\n",
    "plt.colorbar()"
   ]
  },
  {
   "cell_type": "markdown",
   "metadata": {},
   "source": [
    "### Exploration"
   ]
  },
  {
   "cell_type": "code",
   "execution_count": 11,
   "metadata": {},
   "outputs": [],
   "source": [
    "def epsilon(x, eps_0=0.3, eps_decay=100., eps_min=0.01):\n",
    "    \n",
    "    epsilon = eps_0 * np.exp(-x / eps_decay)\n",
    "                             \n",
    "    if epsilon < eps_min:\n",
    "        epsilon = 0.0\n",
    "    \n",
    "    return epsilon"
   ]
  },
  {
   "cell_type": "code",
   "execution_count": 142,
   "metadata": {},
   "outputs": [],
   "source": [
    "#\n",
    "alpha = 0.1 #0.3\n",
    "gamma = 0.8 #0.2\n",
    "\n",
    "# inital state\n",
    "s = 0\n",
    "\n",
    "#\n",
    "r_goal = 15.\n",
    "\n",
    "#\n",
    "n_games_max = 2000\n",
    "n_iter = 0\n",
    "n_steps = 0\n",
    "n_games = 0\n",
    "\n",
    "points = np.zeros(n_games_max, dtype=float)\n",
    "game_rewards = 0\n",
    "#\n",
    "msg = 'games: {:4d}, iter: {:5d}, steps: {:3d}, state: {:2d}, action {:3d}, game_rewards: {:3.2f}'\n",
    "\n",
    "np.random.seed(666)"
   ]
  },
  {
   "cell_type": "code",
   "execution_count": null,
   "metadata": {},
   "outputs": [],
   "source": [
    "while n_games < n_games_max:\n",
    "    \n",
    "    # current state\n",
    "    i_s = np.where(S==s)[0].take(0)\n",
    "    \n",
    "    # random exploration\n",
    "    #eps1 = 0. #epsilon(n_games, eps_0=0.03, eps_decay=100., eps_min=0.01)\n",
    "    eps2 = 0.2 * (1. -np.exp(-(n_steps/20.)))\n",
    "    #eps2 = 0. #0.03 - epsilon(n_steps, eps_0=0.03, eps_decay=10., eps_min=0.0)\n",
    "    \n",
    "    #if np.random.rand() < 0.1: #max(eps1, eps2):\n",
    "    if np.random.rand() < eps2:\n",
    "    #if np.mod(n_steps, 50) == 0:\n",
    "        a = np.random.permutation(A1[i_s][A1[i_s].mask == False])[0].take(0)\n",
    "        #n_steps = 0\n",
    "        #print('random, steps: {:5d}, eps: {:5.2}'.format(n_steps, a+0.))\n",
    "\n",
    "    else:\n",
    "        i_a = np.argmax(Q1[i_s,:]).take(0)\n",
    "        a = A1[i_s, i_a].take(0)    # best action to take \n",
    "        #print(' -- ', 'Qtable', a, i_a, i_s)\n",
    "    \n",
    "    \n",
    "    r = R[i_s]     # imediate reward of taking action a at state s\n",
    "    \n",
    "    #print('r ', r, 's ', s, 'a ', a)\n",
    "    game_rewards += r\n",
    "    \n",
    "    s1 = action(s, a) # the new state after taking action a at state s\n",
    "    \n",
    "    # future reward\n",
    "    i_s1 = np.where(S==s1)[0].take(0)\n",
    "    i_a1 = np.asarray(np.argmax(Q1[i_s1,:])).take(0)\n",
    "    \n",
    "   \n",
    "    # updating the Q table\n",
    "    Q1[i_s,i_a] = (1.-alpha)*Q1[i_s,i_a] + alpha*(r + gamma*Q1[i_s1,i_a1])\n",
    "   \n",
    "    s = s1 # saving state for next iteration\n",
    "    \n",
    "    n_iter += 1\n",
    "    n_steps += 1\n",
    "    \n",
    "    #if np.mod(n_iter, 50) == 0:\n",
    "     #   print(n_games, n_iter, n_steps, eps1, eps2, s, a)\n",
    "    \n",
    "    if r == r_goal:\n",
    "        points[n_games] = r #np.cumsum(points[:n_games]) \n",
    "        if np.mod(n_games, 50) == 0.:\n",
    "            print(msg.format(n_games, n_iter, n_steps, s, a, game_rewards))\n",
    "        \n",
    "        n_games += 1\n",
    "        n_steps = 0\n",
    "        game_rewards = 0\n",
    "        \n",
    "        # starting from a random new state\n",
    "        idx = np.random.randint(low=0, high=len(S), size=1)[0]\n",
    "        s = S[idx]\n",
    "    "
   ]
  },
  {
   "cell_type": "code",
   "execution_count": 144,
   "metadata": {},
   "outputs": [],
   "source": [
    "Qstar = np.argmax(Q1, axis=1)"
   ]
  },
  {
   "cell_type": "code",
   "execution_count": 123,
   "metadata": {},
   "outputs": [],
   "source": [
    "#Q2 = (Q1/Q1.max(axis=0))\n",
    "#Q2 = (Q1.T/Q1.max(axis=1)).T\n",
    "#Q1.max(axis=0).shape"
   ]
  },
  {
   "cell_type": "code",
   "execution_count": 27,
   "metadata": {},
   "outputs": [
    {
     "data": {
      "text/plain": [
       "0"
      ]
     },
     "execution_count": 27,
     "metadata": {},
     "output_type": "execute_result"
    }
   ],
   "source": [
    "#n_games, eps1, eps2\n",
    "#plt.plot(np.cumsum(points))\n",
    "game_rewards"
   ]
  },
  {
   "cell_type": "code",
   "execution_count": 145,
   "metadata": {},
   "outputs": [
    {
     "data": {
      "text/plain": [
       "<matplotlib.colorbar.Colorbar at 0x7fa5b2bcb080>"
      ]
     },
     "execution_count": 145,
     "metadata": {},
     "output_type": "execute_result"
    },
    {
     "data": {
      "image/png": "[encoded data removed]",
      "text/plain": [
       "<Figure size 432x288 with 2 Axes>"
      ]
     },
     "metadata": {},
     "output_type": "display_data"
    }
   ],
   "source": [
    "plt.clf()\n",
    "plt.pcolor(Q1.T)\n",
    "plt.yticks([0.5, 1.5, 2.5, 3.5], ['Left', 'Right', 'Up', 'Down'])\n",
    "plt.xlabel('State index')\n",
    "plt.colorbar()"
   ]
  },
  {
   "cell_type": "code",
   "execution_count": 29,
   "metadata": {},
   "outputs": [],
   "source": [
    "def xyflat_to_xypairs(xyflat, m=10):\n",
    "    xyflat = np.array(xyflat)\n",
    "    y = xyflat // m\n",
    "    x = np.mod(xyflat, m)\n",
    "    return x, y"
   ]
  },
  {
   "cell_type": "code",
   "execution_count": 83,
   "metadata": {},
   "outputs": [],
   "source": [
    "def qplay(s, S, A, R, Qstar, r_goal):\n",
    "\n",
    "    xyflat = []\n",
    "\n",
    "    xyflat.append(s)\n",
    "\n",
    "    for _ in range(20):\n",
    "        s0 = s\n",
    "        ix = np.where(S == s0)[0][0]\n",
    "        iy = Qstar[ix]\n",
    "        a = A[iy]\n",
    "        #\n",
    "        r = R[ix]\n",
    "        s1 = action(s, a)\n",
    "        print(s, a, r)\n",
    "        xyflat.append(s)\n",
    "        s = s1\n",
    "\n",
    "        if r == r_goal:\n",
    "            x, y = xyflat_to_xypairs(xyflat)\n",
    "            return x, y\n",
    "            \n",
    "            #break\n",
    "        \n",
    "    #x, y = xyflat_to_xypairs(xyflat)\n",
    "    #return x, y"
   ]
  },
  {
   "cell_type": "code",
   "execution_count": 137,
   "metadata": {},
   "outputs": [],
   "source": [
    "#plt.plot?"
   ]
  },
  {
   "cell_type": "code",
   "execution_count": 138,
   "metadata": {},
   "outputs": [],
   "source": [
    "def qplot(s, M, S, A, R, Qstar, r_goal):\n",
    "    \n",
    "    x, y = qplay(s, S, A, R, Qstar, r_goal)\n",
    "    \n",
    "    plt.clf()\n",
    "    plt.pcolor(M.T, cmap=plt.cm.RdYlBu, vmin=-10, vmax=10)\n",
    "    plt.grid()\n",
    "    plt.plot(x[:]+0.5, y[:]+0.5, 'k-o')\n",
    "    plt.plot(x[0]+0.5, y[0]+0.5, 'k-*', ms=4)\n",
    "    plt.plot(x[0]+0.5, y[0]+0.5, 'k-x', ms=4)"
   ]
  },
  {
   "cell_type": "code",
   "execution_count": 148,
   "metadata": {},
   "outputs": [
    {
     "name": "stdout",
     "output_type": "stream",
     "text": [
      "40 -10 -1.0\n",
      "30 -10 -1.0\n",
      "20 -10 -1.0\n",
      "10 1 -1.0\n",
      "11 -10 -1.0\n",
      "1 1 -1.0\n",
      "2 1 -1.0\n",
      "3 10 -1.0\n",
      "13 10 -1.0\n",
      "23 1 -1.0\n",
      "24 1 -1.0\n",
      "25 1 -1.0\n",
      "26 -10 -1.0\n",
      "16 -10 15.0\n"
     ]
    },
    {
     "data": {
      "image/png": "[encoded data removed]",
      "text/plain": [
       "<Figure size 432x288 with 1 Axes>"
      ]
     },
     "metadata": {},
     "output_type": "display_data"
    }
   ],
   "source": [
    "qplot(40, M, S, A, R, Qstar, r_goal)"
   ]
  },
  {
   "cell_type": "code",
   "execution_count": 313,
   "metadata": {},
   "outputs": [],
   "source": [
    " def play(self, s, max_episodes=100):\n",
    "        \n",
    "        i_s = np.where(self.S == s)[0].take(0) # 0\n",
    "        \n",
    "        #a = self.A[self.Q_star[i_s]]\n",
    "        a = self.A_star[i_s]\n",
    "        r = self.R[i_s]\n",
    "        \n",
    "        slist = []\n",
    "        alist = []\n",
    "        rlist = []\n",
    "        \n",
    "        slist.append(s)\n",
    "        alist.append(a)\n",
    "        rlist.append(r)\n",
    "\n",
    "        i = 0        \n",
    "        print('i: {:03d}, s: {:02d}, a: {:02d}, r: {:5.1f}, i_s: {:03d}'.format(i, s, a, r, i_s))\n",
    "        \n",
    "        while r != self.r_goal and i < max_episodes:\n",
    "            \n",
    "            s = self.action(s, a)\n",
    "            \n",
    "            i_s = np.where(self.S == s)[0].take(0)\n",
    "            \n",
    "            #a = self.A[self.Q_star[i_s]]\n",
    "            a = self.A_star[i_s]\n",
    "            r = self.R[i_s]\n",
    "                   \n",
    "            slist.append(s)\n",
    "            alist.append(a)\n",
    "            rlist.append(r)\n",
    "            \n",
    "            i += 1\n",
    "            print('i: {:03d}, s: {:02d}, a: {:02d}, r: {:5.1f}, i_s: {:03d}'.format(i, s, a, r, i_s))\n",
    "            \n",
    "        s_arr = np.array(slist)\n",
    "        a_arr = np.array(alist)\n",
    "        r_arr = np.array(rlist)\n",
    "        \n",
    "        return s_arr, a_arr, r_arr"
   ]
  },
  {
   "cell_type": "markdown",
   "metadata": {},
   "source": [
    "## Classy implementation"
   ]
  },
  {
   "cell_type": "code",
   "execution_count": 334,
   "metadata": {},
   "outputs": [],
   "source": [
    "import numpy as np\n",
    "import matplotlib.pyplot as plt\n",
    "import maze"
   ]
  },
  {
   "cell_type": "code",
   "execution_count": 7,
   "metadata": {},
   "outputs": [],
   "source": [
    "class QLearnAgent:\n",
    "    \n",
    "    def __init__(self, maze_matrix, action_array, r_goal):\n",
    "       \n",
    "        self.maze = maze_matrix\n",
    "        S, R = self.__transform_maze_matrix(maze_matrix)\n",
    "        self.S = S\n",
    "        self.R = R\n",
    "        self.A = self.__validate_actions(self.S, action_array)\n",
    "       \n",
    "        self.r_goal = r_goal\n",
    "        \n",
    "            \n",
    "    def __transform_maze_matrix(self, maze_matrix):\n",
    "        \"\"\"\n",
    "        Utility to transform matrix into S and R.\n",
    "        \"\"\"\n",
    "        nx, ny = maze_matrix.shape\n",
    "        m = 10**int(np.ceil(np.log10(ny)))\n",
    "\n",
    "        S = []\n",
    "        R = []\n",
    "\n",
    "        for i in range(nx):\n",
    "            for j in range(ny):\n",
    "                state = maze_matrix[i,j]\n",
    "                R.append(state)\n",
    "                S.append(m*j + i)\n",
    "\n",
    "        S = np.array(S).astype(int)\n",
    "        R = np.array(R).astype(float)\n",
    "        \n",
    "        return S, R        \n",
    "\n",
    "    def __validate_actions(self, S, A):\n",
    "\n",
    "        S = np.asarray(S)\n",
    "        A = np.asarray(A)\n",
    "\n",
    "        na = len(A)\n",
    "        ns = len(S)\n",
    "\n",
    "        A1 = np.zeros([ns, na])\n",
    "\n",
    "        for i,s in enumerate(S):\n",
    "            for j,a in enumerate(A):\n",
    "                s1 = self.action(s, a)\n",
    "                if s1 in S:\n",
    "                    A1[i,j] = A[j]\n",
    "                else:\n",
    "                    A1[i,j] = np.nan\n",
    "\n",
    "        A1 = np.ma.masked_invalid(A1).astype(int)\n",
    "        return A1    \n",
    "\n",
    "    def action(self, s, a):\n",
    "        return s + a    \n",
    "    \n",
    "    def train(self, nmax_episodes=100, alpha=0.3, gamma=0.6, Qinit=None, random_state=666):\n",
    "        \n",
    "        self.nmax_episodes = nmax_episodes\n",
    "        self.alpha = alpha\n",
    "        self.gamma = gamma\n",
    "        \n",
    "        if Qinit is None:\n",
    "            np.random.seed(random_state)\n",
    "            self.Q = np.random.rand(self.A.shape[0], self.A.shape[1])\n",
    "        else:\n",
    "            assert np.shape(Qinit) == (self.A.shape[0], self.A.shape[1]), 'Q shape must be \"(len(S), len(A))\"'\n",
    "            self.Q = np.array(Qinit)\n",
    "\n",
    "        self.Q = np.ma.masked_where(self.A.mask, self.Q)\n",
    "        self.Q_init = self.Q.copy()       \n",
    "        self.err_q = np.zeros(self.nmax_episodes)\n",
    "       \n",
    "        self.n_iter = 0\n",
    "        self.n_steps = 0\n",
    "        self.n_episodes = 0\n",
    "        self.s = np.random.permutation(self.S).take(0)\n",
    "        \n",
    "        while self.n_episodes < self.nmax_episodes:\n",
    "            \n",
    "            # index of the current state\n",
    "            i_s = np.where(self.S==self.s)[0].take(0)\n",
    "    \n",
    "            # random exploration\n",
    "            eps1 = np.clip( 0.3 * np.exp(-self.n_episodes / 500.), 0.02, 1. )\n",
    "            eps2 = np.clip( 0.3 * (1. - np.exp(-(self.n_steps/40.))), 0.02, 1. )\n",
    "            \n",
    "            if np.random.rand() < max(eps1, eps2):\n",
    "                a = np.random.permutation(self.A[i_s][self.A[i_s].mask == False])[0].take(0)\n",
    "                i_a = np.where(self.A[i_s] == a)[0].take(0)              \n",
    "                #print('random', eps1, eps2, self.n_steps)\n",
    "\n",
    "            else:\n",
    "                i_a = np.argmax(self.Q[i_s,:]).take(0)\n",
    "                a = self.A[i_s, i_a].take(0)\n",
    "\n",
    "            # imediate reward for taking action a at state s\n",
    "            r = self.R[i_s]\n",
    "            \n",
    "            self.n_steps += 1\n",
    "            self.n_iter += 1\n",
    "            \n",
    "            if r == self.r_goal:\n",
    "                \n",
    "                self.err_q[self.n_episodes] = np.sum((self.Q_init - self.Q)**2)\n",
    "                # estimate the thorugh Q_star instead\n",
    "                \n",
    "                self.n_episodes += 1\n",
    "                self.n_steps = 0\n",
    "                self.s = np.random.permutation(self.S).take(0)\n",
    "                \n",
    "                \n",
    "            else:\n",
    "                # the new state after taking action a at state s\n",
    "                s1 = self.action(self.s, a)\n",
    "\n",
    "                # future reward\n",
    "                i_s1 = np.where(self.S==s1)[0].take(0)\n",
    "                i_a1 = np.asarray(np.argmax(self.Q[i_s1,:])).take(0)\n",
    "\n",
    "                # updating the Q table\n",
    "                self.Q[i_s,i_a] = (1.-self.alpha)*self.Q[i_s,i_a] + self.alpha*(r + self.gamma*self.Q[i_s1,i_a1])\n",
    "\n",
    "                # saving the new state\n",
    "                self.s = s1\n",
    "                \n",
    "            \n",
    "        self.Q_star = np.argmax(self.Q, axis=1)\n",
    "        self.A_star = np.array([agent.A[i,iq] for (i,iq) in enumerate(agent.Q_star)]).astype(int)\n",
    "        \n",
    "    def play(self, s, max_episodes=100):\n",
    "        \n",
    "        i_s = np.where(self.S == s)[0].take(0) # 0\n",
    "        \n",
    "        #a = self.A[self.Q_star[i_s]]\n",
    "        a = self.A_star[i_s]\n",
    "        r = self.R[i_s]\n",
    "        \n",
    "        slist = []\n",
    "        alist = []\n",
    "        rlist = []\n",
    "        \n",
    "        slist.append(s)\n",
    "        alist.append(a)\n",
    "        rlist.append(r)\n",
    "\n",
    "        i = 0        \n",
    "        print('i: {:03d}, s: {:02d}, a: {:02d}, r: {:5.1f}, i_s: {:03d}'.format(i, s, a, r, i_s))\n",
    "        \n",
    "        while r != self.r_goal and i < max_episodes:\n",
    "            \n",
    "            s = self.action(s, a)\n",
    "            \n",
    "            i_s = np.where(self.S == s)[0].take(0)\n",
    "            \n",
    "            #a = self.A[self.Q_star[i_s]]\n",
    "            a = self.A_star[i_s]\n",
    "            r = self.R[i_s]\n",
    "                   \n",
    "            slist.append(s)\n",
    "            alist.append(a)\n",
    "            rlist.append(r)\n",
    "            \n",
    "            i += 1\n",
    "            print('i: {:03d}, s: {:02d}, a: {:02d}, r: {:5.1f}, i_s: {:03d}'.format(i, s, a, r, i_s))\n",
    "            \n",
    "        s_arr = np.array(slist)\n",
    "        a_arr = np.array(alist)\n",
    "        r_arr = np.array(rlist)\n",
    "        \n",
    "        return s_arr, a_arr, r_arr\n",
    "    \n",
    "    def plot(self, s, max_episodes=100):\n",
    "        pass\n",
    "        #s_arr, a_arr, r_arr = self.play(s, max_episodes=100)\n",
    "        # x, y = qplay(s)\n",
    "        #plt.clf()\n",
    "        #plt.pcolor(M.T, cmap=cm.RdYlBu, vmin=-10, vmax=10)\n",
    "        #plt.grid()\n",
    "        #plt.plot(x[:]+0.5, y[:]+0.5, 'k-o')\n",
    "    "
   ]
  },
  {
   "cell_type": "code",
   "execution_count": 8,
   "metadata": {},
   "outputs": [],
   "source": [
    "maze_matrix = maze.maze_7x5()\n",
    "action_array = np.array([-1, 1, 10, -10], dtype=int) # left, right, up, down\n",
    "r_goal = 15.\n",
    "#\n",
    "agent = QLearnAgent(maze_matrix, action_array, r_goal)"
   ]
  },
  {
   "cell_type": "code",
   "execution_count": 9,
   "metadata": {},
   "outputs": [],
   "source": [
    "agent.train(nmax_episodes=1000, alpha=0.2, gamma=0.7)"
   ]
  },
  {
   "cell_type": "code",
   "execution_count": 10,
   "metadata": {},
   "outputs": [
    {
     "data": {
      "text/plain": [
       "[<matplotlib.lines.Line2D at 0x7fc738994c50>]"
      ]
     },
     "execution_count": 10,
     "metadata": {},
     "output_type": "execute_result"
    },
    {
     "data": {
      "image/png": "[encoded data removed]",
      "text/plain": [
       "<Figure size 432x288 with 1 Axes>"
      ]
     },
     "metadata": {},
     "output_type": "display_data"
    }
   ],
   "source": [
    "plt.loglog(np.arange(agent.n_episodes)+1, agent.err_q[0]/agent.err_q, '-o')"
   ]
  },
  {
   "cell_type": "code",
   "execution_count": 6,
   "metadata": {},
   "outputs": [],
   "source": [
    "# loading the maze\n",
    "M = maze.maze_7x5()"
   ]
  },
  {
   "cell_type": "code",
   "execution_count": 101,
   "metadata": {},
   "outputs": [],
   "source": [
    "nx, ny = M.shape\n",
    "m = 10**int(np.ceil(np.log10(ny)))\n",
    "\n",
    "S = []\n",
    "R = []\n",
    "\n",
    "for i in range(nx):\n",
    "    for j in range(ny):\n",
    "        state = M[i,j]\n",
    "        R.append(state)\n",
    "        S.append(m*j + i)\n",
    "\n",
    "S = np.array(S).astype(int)\n",
    "R = np.array(R).astype(float)"
   ]
  },
  {
   "cell_type": "code",
   "execution_count": 8,
   "metadata": {},
   "outputs": [],
   "source": [
    "# actions\n",
    "A = np.array([-1,1,10,-10], dtype=int) # left, right, up, down"
   ]
  },
  {
   "cell_type": "code",
   "execution_count": 15,
   "metadata": {},
   "outputs": [],
   "source": [
    "def action(s, a):\n",
    "    return s + a"
   ]
  },
  {
   "cell_type": "code",
   "execution_count": 102,
   "metadata": {},
   "outputs": [],
   "source": [
    "def valid_actions(S, A):\n",
    "    \n",
    "    S = np.asarray(S)\n",
    "    A = np.asarray(A)\n",
    "    \n",
    "    na = len(A)\n",
    "    ns = len(S)\n",
    "    \n",
    "    A1 = np.zeros([ns, na])\n",
    "    \n",
    "    for i,s in enumerate(S):\n",
    "        for j,a in enumerate(A):\n",
    "            s1 = action(s, a)\n",
    "            if s1 in S:\n",
    "                A1[i,j] = A[j]\n",
    "            else:\n",
    "                A1[i,j] = np.nan\n",
    "\n",
    "    A1 = np.ma.masked_invalid(A1).astype(int)\n",
    "    return A1"
   ]
  },
  {
   "cell_type": "code",
   "execution_count": 180,
   "metadata": {},
   "outputs": [],
   "source": [
    "ns = len(S)\n",
    "na = len(A)\n",
    "Q = np.random.rand(ns, na)\n",
    "\n",
    "# masked invalid\n",
    "A1 = valid_actions(S, A)\n",
    "Q1 = np.ma.masked_where(A1.mask, Q)\n",
    "\n",
    "r_goal= 15."
   ]
  },
  {
   "cell_type": "code",
   "execution_count": 241,
   "metadata": {},
   "outputs": [],
   "source": [
    "agent = QLearnAgent(nmax_episodes=50, alpha=0.3, gamma=0.6)"
   ]
  },
  {
   "cell_type": "code",
   "execution_count": 242,
   "metadata": {},
   "outputs": [],
   "source": [
    "agent.S = S\n",
    "agent.R = R\n",
    "agent.Q = Q1\n",
    "agent.A = A1\n",
    "#agent.Q_star = Qstar\n",
    "agent.r_goal = r_goal"
   ]
  },
  {
   "cell_type": "code",
   "execution_count": 540,
   "metadata": {},
   "outputs": [],
   "source": [
    "agent.train()"
   ]
  },
  {
   "cell_type": "code",
   "execution_count": 133,
   "metadata": {},
   "outputs": [
    {
     "data": {
      "text/plain": [
       "array([ 0, 10, 20, 30, 40,  1, 11, 21, 31, 41,  2, 12, 22, 32, 42,  3, 13,\n",
       "       23, 33, 43,  4, 14, 24, 34, 44,  5, 15, 25, 35, 45,  6, 16, 26, 36,\n",
       "       46])"
      ]
     },
     "execution_count": 133,
     "metadata": {},
     "output_type": "execute_result"
    }
   ],
   "source": [
    "#np.where(agent.S == 8)[0].take(0)\n",
    "agent.S"
   ]
  },
  {
   "cell_type": "code",
   "execution_count": 106,
   "metadata": {},
   "outputs": [
    {
     "data": {
      "text/plain": [
       "(100, 0.3, 0.6)"
      ]
     },
     "execution_count": 106,
     "metadata": {},
     "output_type": "execute_result"
    }
   ],
   "source": [
    "#agent.train()\n",
    "agent.nmax_episodes, agent.alpha, agent.gamma"
   ]
  },
  {
   "cell_type": "code",
   "execution_count": 155,
   "metadata": {},
   "outputs": [],
   "source": [
    "#agent.A_star = [agent.A[]\n",
    "#agent.A_star = [agent.A[i,iq] for (i,iq) in enumerate(agent.Q_star)]"
   ]
  },
  {
   "cell_type": "code",
   "execution_count": 245,
   "metadata": {},
   "outputs": [
    {
     "name": "stdout",
     "output_type": "stream",
     "text": [
      "i: 000, s: 00, a: 01, r:  -1.0, i_s: 000\n",
      "i: 001, s: 01, a: 01, r:  -1.0, i_s: 005\n",
      "i: 002, s: 02, a: 01, r:  -1.0, i_s: 010\n",
      "i: 003, s: 03, a: 10, r:  -1.0, i_s: 015\n",
      "i: 004, s: 13, a: 01, r:  -1.0, i_s: 016\n",
      "i: 005, s: 14, a: 01, r:  -5.0, i_s: 021\n",
      "i: 006, s: 15, a: 01, r:  -1.0, i_s: 026\n",
      "i: 007, s: 16, a: -1, r:  15.0, i_s: 031\n"
     ]
    },
    {
     "data": {
      "text/plain": [
       "(array([ 0,  1,  2,  3, 13, 14, 15, 16]),\n",
       " array([ 1,  1,  1, 10,  1,  1,  1, -1]),\n",
       " array([-1., -1., -1., -1., -1., -5., -1., 15.]))"
      ]
     },
     "execution_count": 245,
     "metadata": {},
     "output_type": "execute_result"
    }
   ],
   "source": [
    "#agent.Q_star\n",
    "#agent.A_star\n",
    "agent.play(0, 100)"
   ]
  },
  {
   "cell_type": "markdown",
   "metadata": {},
   "source": [
    "# Results"
   ]
  },
  {
   "cell_type": "markdown",
   "metadata": {},
   "source": [
    "![Example](game.gif)"
   ]
  },
  {
   "cell_type": "markdown",
   "metadata": {},
   "source": [
    "# Finally"
   ]
  },
  {
   "cell_type": "code",
   "execution_count": 314,
   "metadata": {},
   "outputs": [],
   "source": [
    "from qlearn_maze_agent import QLearnAgent"
   ]
  },
  {
   "cell_type": "code",
   "execution_count": 324,
   "metadata": {},
   "outputs": [],
   "source": [
    "#from importlib import reload\n",
    "#reload(QLearnAgent)"
   ]
  },
  {
   "cell_type": "code",
   "execution_count": 21,
   "metadata": {},
   "outputs": [],
   "source": [
    "maze_matrix = maze.maze_7x5()"
   ]
  },
  {
   "cell_type": "code",
   "execution_count": 303,
   "metadata": {},
   "outputs": [],
   "source": [
    "r_goal = maze_matrix.max()"
   ]
  },
  {
   "cell_type": "code",
   "execution_count": 311,
   "metadata": {},
   "outputs": [],
   "source": [
    "action_array = np.array([-1, 1, 10, -10], dtype=int) # left, right, up, down"
   ]
  },
  {
   "cell_type": "code",
   "execution_count": 322,
   "metadata": {},
   "outputs": [],
   "source": [
    "agent = QLearnAgent(maze_matrix, action_array, r_goal)"
   ]
  },
  {
   "cell_type": "code",
   "execution_count": 323,
   "metadata": {},
   "outputs": [],
   "source": [
    "agent.train(nmax_episodes=500, alpha=0.2, gamma=0.7)"
   ]
  },
  {
   "cell_type": "code",
   "execution_count": 326,
   "metadata": {},
   "outputs": [],
   "source": [
    "#agent.plot(11, verbose=1)\n",
    "#plt.plot?"
   ]
  },
  {
   "cell_type": "code",
   "execution_count": 325,
   "metadata": {},
   "outputs": [
    {
     "name": "stdout",
     "output_type": "stream",
     "text": [
      "_fig_episode1_step001.png\n",
      "_fig_episode1_step002.png\n",
      "_fig_episode1_step003.png\n",
      "_fig_episode1_step004.png\n",
      "_fig_episode1_step005.png\n",
      "_fig_episode1_step006.png\n",
      "_fig_episode1_step007.png\n",
      "_fig_episode1_step008.png\n"
     ]
    }
   ],
   "source": [
    "agent.multi_plot(slist=[42], basename='_fig')"
   ]
  },
  {
   "cell_type": "markdown",
   "metadata": {},
   "source": [
    "## Q"
   ]
  },
  {
   "cell_type": "code",
   "execution_count": 327,
   "metadata": {},
   "outputs": [
    {
     "data": {
      "text/plain": [
       "<matplotlib.colorbar.Colorbar at 0x7fc7283aa668>"
      ]
     },
     "execution_count": 327,
     "metadata": {},
     "output_type": "execute_result"
    },
    {
     "data": {
      "image/png": "[encoded data removed]",
      "text/plain": [
       "<Figure size 432x288 with 2 Axes>"
      ]
     },
     "metadata": {},
     "output_type": "display_data"
    }
   ],
   "source": [
    "plt.clf()\n",
    "plt.pcolor(agent.Q.T)\n",
    "plt.yticks([0.5, 1.5, 2.5, 3.5], ['Left', 'Right', 'Up', 'Down'])\n",
    "plt.xlabel('State index')\n",
    "plt.colorbar()"
   ]
  },
  {
   "cell_type": "code",
   "execution_count": null,
   "metadata": {},
   "outputs": [],
   "source": []
  }
 ],
 "metadata": {
  "kernelspec": {
   "display_name": "Python 3",
   "language": "python",
   "name": "python3"
  },
  "language_info": {
   "codemirror_mode": {
    "name": "ipython",
    "version": 3
   },
   "file_extension": ".py",
   "mimetype": "text/x-python",
   "name": "python",
   "nbconvert_exporter": "python",
   "pygments_lexer": "ipython3",
   "version": "3.5.5"
  }
 },
 "nbformat": 4,
 "nbformat_minor": 2
}
