{
 "cells": [
  {
   "cell_type": "markdown",
   "metadata": {},
   "source": [
    "# Solving a simple maze puzzle with Q-Learning"
   ]
  },
  {
   "cell_type": "markdown",
   "metadata": {},
   "source": [
    "## The game"
   ]
  },
  {
   "cell_type": "markdown",
   "metadata": {},
   "source": [
    "** Game rules **\n",
    "1. Game starts at a random position on the maze\n",
    "2. The goal is to reach the blue position with maximum possible accumulated points\n",
    "3. The player can move *UP*, *DOWN*, *LEFT*, or *RIGHT*; moves off the board are not allowed\n",
    "4. In each new position, the player receives a penalty (-1 or -5) or a reward (+15), as indicating in the plot below\n"
   ]
  },
  {
   "cell_type": "code",
   "execution_count": 2,
   "metadata": {},
   "outputs": [
    {
     "data": {
      "image/png": "[encoded data removed]",
      "text/plain": [
       "<Figure size 504x360 with 1 Axes>"
      ]
     },
     "metadata": {},
     "output_type": "display_data"
    }
   ],
   "source": [
    "import numpy as np\n",
    "import matplotlib.pyplot as plt\n",
    "import maze # loading the maze\n",
    "\n",
    "M = maze.maze_7x5()\n",
    "\n",
    "vmax = np.abs(M).max()\n",
    "vmin = -vmax\n",
    "fig = plt.figure(figsize=(7,5))\n",
    "plt.pcolor(M.T, cmap=plt.cm.RdYlBu, vmin=vmin, vmax=vmax)\n",
    "plt.grid()\n",
    "for i in range(M.shape[0]):\n",
    "    for j in range(M.shape[1]):\n",
    "        s = str(int(M[i,j])).zfill(2)\n",
    "        plt.text(i+0.5, j+0.5, s, horizontalalignment='center',\n",
    "                                verticalalignment='center', size=15)"
   ]
  },
  {
   "cell_type": "markdown",
   "metadata": {},
   "source": [
    "## Q-learning"
   ]
  },
  {
   "cell_type": "markdown",
   "metadata": {},
   "source": [
    "\n",
    "Q-learning is a reinforcement learning method that attempts to decide the best action to take based on a table of state and actions, the *Q-table*.\n",
    "\n",
    "The state space and action space are discrete and finite. The ideia is that an action $a$ is taken at state $s$, which leads to a new state $s'$ and returns a reward $r$. This is referred as an experience tuple $\\langle s,a,r,s' \\rangle$.\n",
    "\n",
    "The Q-table $Q[s,a]$ is initialized randomly and then updated iteratively through the **Bellman equation**:\n",
    "$$Q^{(i+1)}[s,a] = (1-\\alpha)\\,Q^{(i)}[s,a] + \\alpha \\left( r + \\gamma \\,Q^{(i)}\\left[s,\\text{argmax}_{a} \\,Q^{(i)}[s,a]\\right] \\right).$$\n",
    "\n",
    "In the equation above, $i$ is the iteration index, $\\alpha$ is the learning rate, and $\\gamma$ is the discount rate for future rewards.\n",
    "\n",
    "The *optimal policy* relation\n",
    "$$\\pi_*(s) = \\text{argmax}_{a} \\,Q^{(i)}[s,a] $$\n",
    "\n",
    "gives the best action to take at a given state.\n"
   ]
  },
  {
   "cell_type": "markdown",
   "metadata": {},
   "source": [
    "A Q-learning implementation for solving a maze puzzle is given in [qlearn_maze_agent.py](./qlearn_maze_agent.py)"
   ]
  },
  {
   "cell_type": "markdown",
   "metadata": {},
   "source": [
    "## Training and playing the game"
   ]
  },
  {
   "cell_type": "code",
   "execution_count": 3,
   "metadata": {},
   "outputs": [],
   "source": [
    "from qlearn_maze_agent import QLearnAgent\n",
    "\n",
    "maze_matrix = maze.maze_7x5()\n",
    "action_array = np.array([-1, 1, 10, -10], dtype=int) # left, right, up, down\n",
    "\n",
    "agent = QLearnAgent(maze_matrix, action_array)"
   ]
  },
  {
   "cell_type": "code",
   "execution_count": 4,
   "metadata": {},
   "outputs": [],
   "source": [
    "# Training\n",
    "agent.train(nmax_episodes=500, alpha=0.2, gamma=0.7)"
   ]
  },
  {
   "cell_type": "code",
   "execution_count": 5,
   "metadata": {},
   "outputs": [
    {
     "name": "stdout",
     "output_type": "stream",
     "text": [
      "i: 000, s: 00, a: 01, r:  -1.0, i_s: 000\n",
      "i: 001, s: 01, a: 01, r:  -1.0, i_s: 005\n",
      "i: 002, s: 02, a: 01, r:  -1.0, i_s: 010\n",
      "i: 003, s: 03, a: 10, r:  -1.0, i_s: 015\n",
      "i: 004, s: 13, a: 10, r:  -1.0, i_s: 016\n",
      "i: 005, s: 23, a: 01, r:  -1.0, i_s: 017\n",
      "i: 006, s: 24, a: 01, r:  -1.0, i_s: 022\n",
      "i: 007, s: 25, a: 01, r:  -1.0, i_s: 027\n",
      "i: 008, s: 26, a: -10, r:  -1.0, i_s: 032\n",
      "i: 009, s: 16, a: -1, r:  15.0, i_s: 031\n",
      "\n",
      "  Total points: 6.0\n",
      "\n"
     ]
    },
    {
     "data": {
      "image/png": "[encoded data removed]",
      "text/plain": [
       "<Figure size 432x288 with 1 Axes>"
      ]
     },
     "metadata": {},
     "output_type": "display_data"
    }
   ],
   "source": [
    "agent.plot(0, verbose=1)"
   ]
  },
  {
   "cell_type": "markdown",
   "metadata": {},
   "source": [
    "### Visualizing the Q-table"
   ]
  },
  {
   "cell_type": "code",
   "execution_count": 6,
   "metadata": {},
   "outputs": [
    {
     "data": {
      "text/plain": [
       "<matplotlib.colorbar.Colorbar at 0x7f00cfbce518>"
      ]
     },
     "execution_count": 6,
     "metadata": {},
     "output_type": "execute_result"
    },
    {
     "data": {
      "image/png": "[encoded data removed]",
      "text/plain": [
       "<Figure size 432x288 with 2 Axes>"
      ]
     },
     "metadata": {},
     "output_type": "display_data"
    }
   ],
   "source": [
    "# Masked values are forbiden states\n",
    "plt.clf()\n",
    "plt.pcolor(agent.Q.T)\n",
    "plt.yticks([0.5, 1.5, 2.5, 3.5], ['Left', 'Right', 'Up', 'Down'])\n",
    "plt.xlabel('State index') # state space is flattened \n",
    "plt.colorbar()"
   ]
  },
  {
   "cell_type": "markdown",
   "metadata": {},
   "source": [
    "### Checking the training error (sort of)"
   ]
  },
  {
   "cell_type": "code",
   "execution_count": 7,
   "metadata": {},
   "outputs": [
    {
     "data": {
      "text/plain": [
       "Text(0,0.5,'Changing ratio of the Q table w.r.t. the first episode')"
      ]
     },
     "execution_count": 7,
     "metadata": {},
     "output_type": "execute_result"
    },
    {
     "data": {
      "image/png": "[encoded data removed]",
      "text/plain": [
       "<Figure size 432x288 with 1 Axes>"
      ]
     },
     "metadata": {},
     "output_type": "display_data"
    }
   ],
   "source": [
    "plt.loglog(np.arange(agent.n_episodes)+1, agent.err_q, '-o')\n",
    "plt.xlabel('# of training episodes')\n",
    "plt.ylabel('Changing ratio of the Q table w.r.t. the first episode')"
   ]
  },
  {
   "cell_type": "markdown",
   "metadata": {},
   "source": [
    "### Animating results with ImageMagik"
   ]
  },
  {
   "cell_type": "code",
   "execution_count": 8,
   "metadata": {},
   "outputs": [
    {
     "name": "stdout",
     "output_type": "stream",
     "text": [
      "fig_episode1_step001.png\n",
      "fig_episode1_step002.png\n",
      "fig_episode1_step003.png\n",
      "fig_episode1_step004.png\n",
      "fig_episode1_step005.png\n",
      "fig_episode1_step006.png\n",
      "fig_episode1_step007.png\n",
      "fig_episode1_step008.png\n",
      "fig_episode1_step009.png\n",
      "fig_episode1_step010.png\n",
      "fig_episode2_step001.png\n",
      "fig_episode2_step002.png\n",
      "fig_episode2_step003.png\n",
      "fig_episode2_step004.png\n",
      "fig_episode2_step005.png\n",
      "fig_episode2_step006.png\n",
      "fig_episode2_step007.png\n",
      "fig_episode2_step008.png\n",
      "fig_episode3_step001.png\n",
      "fig_episode3_step002.png\n",
      "fig_episode3_step003.png\n",
      "fig_episode3_step004.png\n",
      "fig_episode3_step005.png\n",
      "fig_episode3_step006.png\n",
      "fig_episode4_step001.png\n",
      "fig_episode4_step002.png\n",
      "fig_episode4_step003.png\n",
      "fig_episode4_step004.png\n",
      "fig_episode4_step005.png\n",
      "fig_episode4_step006.png\n"
     ]
    }
   ],
   "source": [
    "# saving all the game steps for several games\n",
    "slist = [0, 42, 46, 22] # initial state for each game\n",
    "agent.multi_plot(slist, basename='fig')"
   ]
  },
  {
   "cell_type": "markdown",
   "metadata": {},
   "source": [
    "### Making a gif with *convert*\n",
    "```\n",
    "$ convert -delay 16 -loop 0 fig_episode*_step*.png play_game.gif\n",
    "```"
   ]
  },
  {
   "cell_type": "markdown",
   "metadata": {},
   "source": [
    "Ta-dam!\n",
    "![Ta-dam](play_game.gif)"
   ]
  }
 ],
 "metadata": {
  "kernelspec": {
   "display_name": "Python 3",
   "language": "python",
   "name": "python3"
  },
  "language_info": {
   "codemirror_mode": {
    "name": "ipython",
    "version": 3
   },
   "file_extension": ".py",
   "mimetype": "text/x-python",
   "name": "python",
   "nbconvert_exporter": "python",
   "pygments_lexer": "ipython3",
   "version": "3.5.5"
  }
 },
 "nbformat": 4,
 "nbformat_minor": 2
}
